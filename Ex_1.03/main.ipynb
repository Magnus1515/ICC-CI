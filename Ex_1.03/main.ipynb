{
 "cells": [
  {
   "cell_type": "code",
   "execution_count": 8,
   "metadata": {},
   "outputs": [
    {
     "ename": "ModuleNotFoundError",
     "evalue": "No module named 'matplotlib'",
     "output_type": "error",
     "traceback": [
      "\u001b[0;31m---------------------------------------------------------------------------\u001b[0m",
      "\u001b[0;31mModuleNotFoundError\u001b[0m                       Traceback (most recent call last)",
      "Cell \u001b[0;32mIn[8], line 1\u001b[0m\n\u001b[0;32m----> 1\u001b[0m \u001b[38;5;28;01mimport\u001b[39;00m \u001b[38;5;21;01mmatplotlib\u001b[39;00m\u001b[38;5;21;01m.\u001b[39;00m\u001b[38;5;21;01mpyplot\u001b[39;00m \u001b[38;5;28;01mas\u001b[39;00m \u001b[38;5;21;01mplt\u001b[39;00m\n\u001b[1;32m      2\u001b[0m \u001b[38;5;28;01mimport\u001b[39;00m \u001b[38;5;21;01mcsv\u001b[39;00m\n\u001b[1;32m      4\u001b[0m maze \u001b[38;5;241m=\u001b[39m []\n",
      "\u001b[0;31mModuleNotFoundError\u001b[0m: No module named 'matplotlib'"
     ]
    }
   ],
   "source": [
    "import matplotlib.pyplot as plt\n",
    "import csv\n",
    "\n",
    "maze = []\n",
    "with open(\"maze_02.csv\", 'r') as file:\n",
    "    reader = csv.reader(file)\n",
    "    for row in reader:\n",
    "        maze.append([int(cell) for cell in row])\n",
    "\n",
    "plt.imshow(maze, cmap='binary')\n",
    "plt.xticks([]) \n",
    "plt.yticks([]) \n",
    "plt.show()"
   ]
  },
  {
   "cell_type": "code",
   "execution_count": null,
   "metadata": {},
   "outputs": [],
   "source": [
    "with open('maze_02.csv', mode ='r')as file:\n",
    "\t\n",
    "    csvFile = csv.reader(file)\n",
    "    for lines in csvFile:\n",
    "\t\t    print(lines)"
   ]
  },
  {
   "cell_type": "code",
   "execution_count": null,
   "metadata": {},
   "outputs": [],
   "source": [
    "import matplotlib.pyplot as plt\n",
    "import csv\n",
    "\n",
    "maze = []\n",
    "with open(\"maze_02.csv\", 'r') as file:\n",
    "    reader = csv.reader(file)\n",
    "    for row in reader:\n",
    "        maze.append([int(cell) for cell in row])\n",
    "\n",
    "path_coordinates = [(6, 0), (6, 1), (6, 2), (5, 2), (4, 2), (4, 3), (3, 3)]\n",
    "\n",
    "for coord in path_coordinates:\n",
    "    maze[coord[0]][coord[1]] = 2  # Assuming 1 represents the path, change it to 2 at path coordinates\n",
    "\n",
    "plt.imshow(maze, cmap='binary', vmin=0, vmax=2)  # Adjust vmin and vmax accordingly\n",
    "plt.xticks([]) \n",
    "plt.yticks([]) \n",
    "plt.show()\n"
   ]
  },
  {
   "cell_type": "code",
   "execution_count": null,
   "metadata": {},
   "outputs": [],
   "source": [
    "\n",
    "#Foward Search \n",
    "\"\"\"FORWARD_SEARCH\n",
    "Q.Insert(x1) and mark xy as visited\n",
    "\n",
    "while Q not empty do\n",
    "\tx- Q.GetFirst()\n",
    "\tif x E Xa\n",
    "\t\treturn SUCCESS\n",
    "\tforall u E U(x)\n",
    "\t\tx < f(x,U)\n",
    "\t\tif x' not visited\n",
    "\t\t\tMark x' as visited\n",
    "\t\t\tQuInsert(x')\n",
    "\t\telse\n",
    "\t\t\tResolve duplicate x'\n",
    "return FAILURE\"\"\"\n",
    "\n",
    "x1 = [6,0]\n",
    "\n",
    "nodes_queue = []\n",
    "visited_nodes = []\n",
    "nodes_queue.append(x1)\n",
    "\n",
    "# Define possible moves (up, down, left, right)\n",
    "moves = [(0, 1), (0, -1), (1, 0), (-1, 0)]\n",
    "current_position = [6, 0]\n",
    "\n",
    "def is_valid_move(row, col):\n",
    "    return 0 <= row < len(maze) and 0 <= col < len(maze[0]) and maze[row][col] != '1'\n",
    "\n",
    "for move in moves:\n",
    "    new_row = current_position[0] + move[0]\n",
    "    new_col = current_position[1] + move[1]\n",
    "\n",
    "    if is_valid_move(new_row, new_col):\n",
    "        current_position = [new_row, new_col]\n",
    "\n",
    "print(\"Final Position:\", current_position)\n",
    "\n",
    "is_valid_move(5,0)"
   ]
  },
  {
   "cell_type": "code",
   "execution_count": null,
   "metadata": {},
   "outputs": [],
   "source": [
    "maze = [\n",
    "    ['0', '1', '1', '1', '1', '1'],\n",
    "    ['0', '0', '0', '0', '0', '0'],\n",
    "    ['0', '1', '1', '0', '1', '1'],\n",
    "    ['0', '1', '1', '0', '1', '1'],\n",
    "    ['0', '1', '0', '0', '1', '1'],\n",
    "    ['0', '1', '0', '1', '1', '1'],\n",
    "    ['0', '0', '0', '1', '1', '1']\n",
    "]\n",
    "\n",
    "moves = [(0, 1), (0, -1), (1, 0), (-1, 0)]\n",
    "\n",
    "# Starting position\n",
    "current_position = [6, 0]\n",
    "\n",
    "def is_valid_move(row, col):\n",
    "    return 0 <= row < len(maze) and 0 <= col < len(maze[0]) and maze[row][col] != '1'\n",
    "\n",
    "for move in moves:\n",
    "    new_row = current_position[0] + move[0]\n",
    "    new_col = current_position[1] + move[1]\n",
    "\n",
    "    if is_valid_move(new_row, new_col):\n",
    "        current_position = [new_row, new_col]\n",
    "        print(f\"Moved to: {current_position}\")\n",
    "\n",
    "print(\"Final Position:\", current_position)\n",
    "\n",
    "\"\"\"FORWARD_SEARCH\n",
    "Q.Insert(x1) and mark xy as visited\n",
    "\n",
    "while Q not empty do\n",
    "\tx- Q.GetFirst()\n",
    "\tif x E Xa\n",
    "\t\treturn SUCCESS\n",
    "\tforall u E U(x)\n",
    "\t\tx < f(x,U)\n",
    "\t\tif x' not visited\n",
    "\t\t\tMark x' as visited\n",
    "\t\t\tQuInsert(x')\n",
    "\t\telse\n",
    "\t\t\tResolve duplicate x'\n",
    "return FAILURE\"\"\"\n",
    "\n",
    "\n",
    "nodes_queue = []\n",
    "visited_nodes = []\n",
    "\n",
    "nodes_queue.append(current_position)\n",
    "\n",
    "\n"
   ]
  },
  {
   "cell_type": "code",
   "execution_count": 8,
   "metadata": {},
   "outputs": [
    {
     "name": "stdout",
     "output_type": "stream",
     "text": [
      "Path found: [(6, 0), (6, 1), (6, 2), (5, 2), (4, 2), (4, 3), (3, 3)]\n"
     ]
    }
   ],
   "source": [
    "from collections import deque\n",
    "\n",
    "maze = [\n",
    "    ['0', '1', '1', '1', '1', '1'],\n",
    "    ['0', '0', '0', '0', '0', '0'],\n",
    "    ['0', '1', '1', '0', '1', '1'],\n",
    "    ['0', '1', '1', '0', '1', '1'],\n",
    "    ['0', '1', '0', '0', '1', '1'],\n",
    "    ['0', '1', '0', '1', '1', '1'],\n",
    "    ['0', '0', '0', '1', '1', '1']\n",
    "]\n",
    "\n",
    "new_path = []\n",
    "\n",
    "def is_valid_move(row, col):\n",
    "    return 0 <= row < len(maze) and 0 <= col < len(maze[0]) and maze[row][col] != '1'\n",
    "\n",
    "#BFS USING QUEUE\n",
    "def forward_search(maze, start, goal, moves):\n",
    "    # the main reason to use set -> Set items are unordered, unchangeable, and do not allow duplicate values.\n",
    "    visited = set()\n",
    "    # and deque because is a FIFO and will be a little be eassy to use to add at start or end\n",
    "    queue = deque()\n",
    "    \n",
    "    # Each entry in the queue is a tuple (current_position, path)\n",
    "    queue.append((start, [start]))\n",
    "    #flag the start node \n",
    "    visited.add(tuple(start))\n",
    "    \n",
    "    while queue:\n",
    "        current_position, path = queue.popleft()\n",
    "        # if our current position is our goal will cotinue moving \n",
    "        if current_position == goal:\n",
    "            return path  # Return the path if the goal is reached\n",
    "\n",
    "        for move in moves:\n",
    "            new_row = current_position[0] + move[0]\n",
    "            new_col = current_position[1] + move[1]\n",
    "            new_position = (new_row, new_col)\n",
    "\n",
    "            #If the movemente we want to do is legal and the position is not visited, we can procced \n",
    "            if is_valid_move(new_row, new_col) and new_position not in visited:\n",
    "                visited.add(new_position) #Marked as visited the new position \n",
    "                new_path = path + [new_position] \n",
    "                queue.append((new_position, new_path))\n",
    "\n",
    "    return None  # Return None if no path is found\n",
    "\n",
    "# Example usage\n",
    "start_position = (6, 0)\n",
    "goal_position = (3, 3)\n",
    "moves = [(0, 1), (0, -1), (1, 0), (-1, 0)]\n",
    "result_path = forward_search(maze, start_position, goal_position, moves)\n",
    "\n",
    "if result_path:\n",
    "    print(\"Path found:\", result_path)\n",
    "else:\n",
    "    print(\"No path found.\")\n",
    "\n",
    "\n"
   ]
  },
  {
   "cell_type": "code",
   "execution_count": 9,
   "metadata": {},
   "outputs": [
    {
     "data": {
      "image/png": "[encoded data removed]",
      "text/plain": [
       "<Figure size 640x480 with 1 Axes>"
      ]
     },
     "metadata": {},
     "output_type": "display_data"
    }
   ],
   "source": [
    "import matplotlib.pyplot as plt\n",
    "import csv\n",
    "\n",
    "maze = []\n",
    "with open(\"maze_02.csv\", 'r') as file:\n",
    "    reader = csv.reader(file)\n",
    "    for row in reader:\n",
    "        maze.append([int(cell) for cell in row])\n",
    "\n",
    "path_coordinates = [(6, 0), (6, 1), (6, 2), (5, 2), (4, 2), (4, 3), (3, 3)]\n",
    "\n",
    "for coord in path_coordinates:\n",
    "    maze[coord[0]][coord[1]] = 2  \n",
    "\n",
    "plt.imshow(maze, cmap='binary', vmin=0, vmax=2)  \n",
    "plt.xticks([]) \n",
    "plt.yticks([]) \n",
    "plt.show()\n"
   ]
  },
  {
   "cell_type": "code",
   "execution_count": 1,
   "metadata": {},
   "outputs": [
    {
     "name": "stdout",
     "output_type": "stream",
     "text": [
      "Path found: [(6, 0), (5, 0), (4, 0), (3, 0), (2, 0), (1, 0), (1, 1), (1, 2), (1, 3), (2, 3), (3, 3)]\n"
     ]
    }
   ],
   "source": [
    "from collections import deque\n",
    "\n",
    "maze = [\n",
    "    ['0', '1', '1', '1', '1', '1'],\n",
    "    ['0', '0', '0', '0', '0', '0'],\n",
    "    ['0', '1', '1', '0', '1', '1'],\n",
    "    ['0', '1', '1', '0', '1', '1'],\n",
    "    ['0', '1', '0', '0', '1', '1'],\n",
    "    ['0', '1', '0', '1', '1', '1'],\n",
    "    ['0', '0', '0', '1', '1', '1']\n",
    "]\n",
    "\n",
    "def is_valid_move(row, col):\n",
    "    return 0 <= row < len(maze) and 0 <= col < len(maze[0]) and maze[row][col] == '0'\n",
    "\n",
    "# LIFO \n",
    "# DFS_STACK\n",
    "def DFS_stack(maze, start, goal, moves):\n",
    "    visited = set()\n",
    "    stack = []\n",
    "\n",
    "    stack.append((start, [start]))\n",
    "\n",
    "    while stack:\n",
    "        current_position, path = stack.pop()\n",
    "\n",
    "        if current_position == goal:\n",
    "            return path  # Return the path if the goal is reached\n",
    "\n",
    "        if current_position not in visited:\n",
    "            visited.add(current_position)\n",
    "\n",
    "            for move in moves:\n",
    "                new_row = current_position[0] + move[0]\n",
    "                new_col = current_position[1] + move[1]\n",
    "                new_position = (new_row, new_col)\n",
    "\n",
    "                if is_valid_move(new_row, new_col):\n",
    "                    new_path = path + [new_position]\n",
    "                    stack.append((new_position, new_path))\n",
    "\n",
    "    return None  # Return None if no path is found\n",
    "\n",
    "# Example usage\n",
    "start_position = (6, 0)\n",
    "goal_position = (3, 3)\n",
    "moves = [(0, 1), (0, -1), (1, 0), (-1, 0)]\n",
    "result_path = DFS_stack(maze, start_position, goal_position, moves)\n",
    "\n",
    "if result_path:\n",
    "    print(\"Path found:\", result_path)\n",
    "else:\n",
    "    print(\"No path found.\")\n"
   ]
  },
  {
   "cell_type": "code",
   "execution_count": 1,
   "metadata": {},
   "outputs": [
    {
     "data": {
      "image/png": "[encoded data removed]",
      "text/plain": [
       "<Figure size 640x480 with 1 Axes>"
      ]
     },
     "metadata": {},
     "output_type": "display_data"
    }
   ],
   "source": []
  }
 ],
 "metadata": {
  "kernelspec": {
   "display_name": "Python 3",
   "language": "python",
   "name": "python3"
  },
  "language_info": {
   "codemirror_mode": {
    "name": "ipython",
    "version": 3
   },
   "file_extension": ".py",
   "mimetype": "text/x-python",
   "name": "python",
   "nbconvert_exporter": "python",
   "pygments_lexer": "ipython3",
   "version": "3.12.0"
  }
 },
 "nbformat": 4,
 "nbformat_minor": 2
}
