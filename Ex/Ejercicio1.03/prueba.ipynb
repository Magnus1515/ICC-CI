{
 "cells": [
  {
   "cell_type": "code",
   "execution_count": 1,
   "metadata": {},
   "outputs": [
    {
     "ename": "ModuleNotFoundError",
     "evalue": "No module named 'matplotlib'",
     "output_type": "error",
     "traceback": [
      "\u001b[0;31m---------------------------------------------------------------------------\u001b[0m",
      "\u001b[0;31mModuleNotFoundError\u001b[0m                       Traceback (most recent call last)",
      "Cell \u001b[0;32mIn[1], line 1\u001b[0m\n\u001b[0;32m----> 1\u001b[0m \u001b[38;5;28;01mimport\u001b[39;00m \u001b[38;5;21;01mmatplotlib\u001b[39;00m\u001b[38;5;21;01m.\u001b[39;00m\u001b[38;5;21;01mpyplot\u001b[39;00m \u001b[38;5;28;01mas\u001b[39;00m \u001b[38;5;21;01mplt\u001b[39;00m\n\u001b[1;32m      3\u001b[0m start \u001b[38;5;241m=\u001b[39m (\u001b[38;5;241m3\u001b[39m, \u001b[38;5;241m3\u001b[39m)\n\u001b[1;32m      4\u001b[0m obj \u001b[38;5;241m=\u001b[39m (\u001b[38;5;241m6\u001b[39m, \u001b[38;5;241m0\u001b[39m)\n",
      "\u001b[0;31mModuleNotFoundError\u001b[0m: No module named 'matplotlib'"
     ]
    }
   ],
   "source": [
    "import matplotlib.pyplot as plt\n",
    "\n",
    "start = (3, 3)\n",
    "obj = (6, 0)\n",
    "\n",
    "maze = []\n",
    "available = [start]\n",
    "\n",
    "with open(\"maze_02.csv\", \"r\") as file:\n",
    "    for line in file:\n",
    "        line = line.split(\",\")\n",
    "        row = []\n",
    "        for c in line:\n",
    "            if \"1\" in c:\n",
    "                row.append(1)\n",
    "            else:\n",
    "                row.append(0)\n",
    "        maze.append(row)\n",
    "\n",
    "\n",
    "def check_direction(node):\n",
    "    try:  # up\n",
    "        if maze[node[0] - 1][node[1]] == 0:  # check if can be visited\n",
    "            if node[0] - 1 >= 0 and node[1] >= 0:  # check if coordinates are positive\n",
    "                maze[node[0] - 1][node[1]] = 2  # change maze value\n",
    "                available.append((node[0] - 1, node[1]))  # add to available nodes\n",
    "    except:\n",
    "        pass\n",
    "\n",
    "    try:  # right\n",
    "        if maze[node[0]][node[1] + 1] == 0:  # check if can be visited\n",
    "            if node[0] >= 0 and node[1] + 1 >= 0:  # check if coordinates are positive\n",
    "                maze[node[0]][node[1] + 1] = 2  # change maze value\n",
    "                available.append((node[0], node[1] + 1))  # add to available nodes\n",
    "    except:\n",
    "        pass\n",
    "\n",
    "    try:  # down\n",
    "        if maze[node[0] + 1][node[1]] == 0:  # check if can be visited\n",
    "            if node[0] + 1 >= 0 and node[1] >= 0:  # check if coordinates are positive\n",
    "                maze[node[0] + 1][node[1]] = 2  # change maze value\n",
    "                available.append((node[0] + 1, node[1]))  # add to available nodes\n",
    "    except:\n",
    "        pass\n",
    "\n",
    "    try:  # left\n",
    "        if maze[node[0]][node[1] - 1] == 0:  # check if can be visited\n",
    "            if node[0] >= 0 and node[1] - 1 >= 0:  # check if coordinates are positive\n",
    "                maze[node[0]][node[1] - 1] = 2  # change maze value\n",
    "                available.append((node[0], node[1] - 1))  # add to available nodes\n",
    "    except:\n",
    "        pass\n",
    "\n",
    "\n",
    "def main():\n",
    "    counter = 0\n",
    "    while obj not in available:\n",
    "        node = available[counter]\n",
    "        check_direction(node)\n",
    "        counter += 1\n",
    "    maze[obj[0]][obj[1]] = 3\n",
    "\n",
    "\n",
    "main()\n",
    "plt.pcolormesh(maze)\n",
    "plt.gca().invert_yaxis()\n",
    "plt.show()\n"
   ]
  }
 ],
 "metadata": {
  "kernelspec": {
   "display_name": "Python 3",
   "language": "python",
   "name": "python3"
  },
  "language_info": {
   "codemirror_mode": {
    "name": "ipython",
    "version": 3
   },
   "file_extension": ".py",
   "mimetype": "text/x-python",
   "name": "python",
   "nbconvert_exporter": "python",
   "pygments_lexer": "ipython3",
   "version": "3.11.0"
  }
 },
 "nbformat": 4,
 "nbformat_minor": 2
}
