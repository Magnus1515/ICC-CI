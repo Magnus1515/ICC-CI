{
 "cells": [
  {
   "cell_type": "code",
   "execution_count": 10,
   "metadata": {},
   "outputs": [
    {
     "data": {
      "image/png": "[encoded data removed]",
      "text/plain": [
       "<Figure size 640x480 with 1 Axes>"
      ]
     },
     "metadata": {},
     "output_type": "display_data"
    }
   ],
   "source": [
    "import matplotlib.pyplot as plt\n",
    "import csv\n",
    "\n",
    "maze = []\n",
    "with open(\"maze_02.csv\", 'r') as file:\n",
    "    reader = csv.reader(file)\n",
    "    for row in reader:\n",
    "        maze.append([int(cell) for cell in row])\n",
    "\n",
    "plt.imshow(maze, cmap='binary')\n",
    "plt.xticks([]) \n",
    "plt.yticks([]) \n",
    "plt.show()"
   ]
  },
  {
   "cell_type": "code",
   "execution_count": 11,
   "metadata": {},
   "outputs": [
    {
     "name": "stdout",
     "output_type": "stream",
     "text": [
      "['0', '1', '1', '1', '1', '1']\n",
      "['0', '0', '0', '0', '0', '0']\n",
      "['0', '1', '1', '0', '1', '1']\n",
      "['0', '1', '1', '0', '1', '1']\n",
      "['0', '1', '0', '0', '1', '1']\n",
      "['0', '1', '0', '1', '1', '1']\n",
      "['0', '0', '0', '1', '1', '1']\n"
     ]
    }
   ],
   "source": [
    "with open('maze_02.csv', mode ='r')as file:\n",
    "\t\n",
    "    csvFile = csv.reader(file)\n",
    "    for lines in csvFile:\n",
    "\t\t    print(lines)"
   ]
  },
  {
   "cell_type": "code",
   "execution_count": 12,
   "metadata": {},
   "outputs": [
    {
     "data": {
      "image/png": "[encoded data removed]",
      "text/plain": [
       "<Figure size 640x480 with 1 Axes>"
      ]
     },
     "metadata": {},
     "output_type": "display_data"
    }
   ],
   "source": [
    "import matplotlib.pyplot as plt\n",
    "import csv\n",
    "\n",
    "maze = []\n",
    "with open(\"maze_02.csv\", 'r') as file:\n",
    "    reader = csv.reader(file)\n",
    "    for row in reader:\n",
    "        maze.append([int(cell) for cell in row])\n",
    "\n",
    "path_coordinates = [(6, 0), (6, 1), (6, 2), (5, 2), (4, 2), (4, 3), (3, 3)]\n",
    "\n",
    "for coord in path_coordinates:\n",
    "    maze[coord[0]][coord[1]] = 2  # Assuming 1 represents the path, change it to 2 at path coordinates\n",
    "\n",
    "plt.imshow(maze, cmap='binary', vmin=0, vmax=2)  # Adjust vmin and vmax accordingly\n",
    "plt.xticks([]) \n",
    "plt.yticks([]) \n",
    "plt.show()\n"
   ]
  },
  {
   "cell_type": "code",
   "execution_count": 13,
   "metadata": {},
   "outputs": [
    {
     "name": "stdout",
     "output_type": "stream",
     "text": [
      "Final Position: [5, 0]\n"
     ]
    },
    {
     "data": {
      "text/plain": [
       "True"
      ]
     },
     "execution_count": 13,
     "metadata": {},
     "output_type": "execute_result"
    }
   ],
   "source": [
    "\n",
    "#Foward Search \n",
    "\"\"\"FORWARD_SEARCH\n",
    "Q.Insert(x1) and mark xy as visited\n",
    "\n",
    "while Q not empty do\n",
    "\tx- Q.GetFirst()\n",
    "\tif x E Xa\n",
    "\t\treturn SUCCESS\n",
    "\tforall u E U(x)\n",
    "\t\tx < f(x,U)\n",
    "\t\tif x' not visited\n",
    "\t\t\tMark x' as visited\n",
    "\t\t\tQuInsert(x')\n",
    "\t\telse\n",
    "\t\t\tResolve duplicate x'\n",
    "return FAILURE\"\"\"\n",
    "\n",
    "x1 = [6,0]\n",
    "\n",
    "nodes_queue = []\n",
    "visited_nodes = []\n",
    "nodes_queue.append(x1)\n",
    "\n",
    "# Define possible moves (up, down, left, right)\n",
    "moves = [(0, 1), (0, -1), (1, 0), (-1, 0)]\n",
    "current_position = [6, 0]\n",
    "\n",
    "def is_valid_move(row, col):\n",
    "    return 0 <= row < len(maze) and 0 <= col < len(maze[0]) and maze[row][col] != '1'\n",
    "\n",
    "for move in moves:\n",
    "    new_row = current_position[0] + move[0]\n",
    "    new_col = current_position[1] + move[1]\n",
    "\n",
    "    if is_valid_move(new_row, new_col):\n",
    "        current_position = [new_row, new_col]\n",
    "\n",
    "print(\"Final Position:\", current_position)\n",
    "\n",
    "is_valid_move(5,0)"
   ]
  },
  {
   "cell_type": "code",
   "execution_count": 14,
   "metadata": {},
   "outputs": [
    {
     "name": "stdout",
     "output_type": "stream",
     "text": [
      "Moved to: [6, 1]\n",
      "Moved to: [6, 0]\n",
      "Moved to: [5, 0]\n",
      "Final Position: [5, 0]\n"
     ]
    }
   ],
   "source": [
    "maze = [\n",
    "    ['0', '1', '1', '1', '1', '1'],\n",
    "    ['0', '0', '0', '0', '0', '0'],\n",
    "    ['0', '1', '1', '0', '1', '1'],\n",
    "    ['0', '1', '1', '0', '1', '1'],\n",
    "    ['0', '1', '0', '0', '1', '1'],\n",
    "    ['0', '1', '0', '1', '1', '1'],\n",
    "    ['0', '0', '0', '1', '1', '1']\n",
    "]\n",
    "\n",
    "moves = [(0, 1), (0, -1), (1, 0), (-1, 0)]\n",
    "\n",
    "# Starting position\n",
    "current_position = [6, 0]\n",
    "\n",
    "def is_valid_move(row, col):\n",
    "    return 0 <= row < len(maze) and 0 <= col < len(maze[0]) and maze[row][col] != '1'\n",
    "\n",
    "for move in moves:\n",
    "    new_row = current_position[0] + move[0]\n",
    "    new_col = current_position[1] + move[1]\n",
    "\n",
    "    if is_valid_move(new_row, new_col):\n",
    "        current_position = [new_row, new_col]\n",
    "        print(f\"Moved to: {current_position}\")\n",
    "\n",
    "print(\"Final Position:\", current_position)\n",
    "\n",
    "\"\"\"FORWARD_SEARCH\n",
    "Q.Insert(x1) and mark xy as visited\n",
    "\n",
    "while Q not empty do\n",
    "\tx- Q.GetFirst()\n",
    "\tif x E Xa\n",
    "\t\treturn SUCCESS\n",
    "\tforall u E U(x)\n",
    "\t\tx < f(x,U)\n",
    "\t\tif x' not visited\n",
    "\t\t\tMark x' as visited\n",
    "\t\t\tQuInsert(x')\n",
    "\t\telse\n",
    "\t\t\tResolve duplicate x'\n",
    "return FAILURE\"\"\"\n",
    "\n",
    "\n",
    "nodes_queue = []\n",
    "visited_nodes = []\n",
    "\n",
    "nodes_queue.append(current_position)\n",
    "\n",
    "\n"
   ]
  },
  {
   "cell_type": "code",
   "execution_count": 1,
   "metadata": {},
   "outputs": [
    {
     "name": "stdout",
     "output_type": "stream",
     "text": [
      "Path found: [(6, 0), (5, 0), (4, 0), (3, 0), (2, 0), (1, 0), (1, 1), (1, 2), (1, 3), (2, 3), (3, 3)]\n"
     ]
    }
   ],
   "source": [
    "\n",
    "\n",
    "maze = [\n",
    "    ['0', '1', '1', '1', '1', '1'],\n",
    "    ['0', '0', '0', '0', '0', '0'],\n",
    "    ['0', '1', '1', '0', '1', '1'],\n",
    "    ['0', '1', '1', '0', '1', '1'],\n",
    "    ['0', '1', '0', '0', '1', '1'],\n",
    "    ['0', '1', '0', '1', '1', '1'],\n",
    "    ['0', '0', '0', '1', '1', '1']\n",
    "]\n",
    "\n",
    "def is_valid_move(row, col):\n",
    "    return 0 <= row < len(maze) and 0 <= col < len(maze[0]) and maze[row][col] == '0'\n",
    "\n",
    "# LIFO \n",
    "# DFS usa la pila \n",
    "\n",
    "def DFS_stack(maze, start, goal, moves):\n",
    "    def is_valid_move(row, col):\n",
    "        return 0 <= row < len(maze) and 0 <= col < len(maze[0]) and maze[row][col] == '0'\n",
    "\n",
    "    visited = set()\n",
    "    stack = []\n",
    "\n",
    "    stack.append((start, [start]))\n",
    "    visited.add(start)\n",
    "\n",
    "    while stack:\n",
    "        current_position, path = stack.pop()\n",
    "\n",
    "        if current_position == goal:\n",
    "            return path  # Return the path if the goal is reached\n",
    "\n",
    "        for move in moves:\n",
    "            new_row = current_position[0] + move[0]\n",
    "            new_col = current_position[1] + move[1]\n",
    "            new_position = (new_row, new_col)\n",
    "\n",
    "            if is_valid_move(new_row, new_col) and new_position not in visited:\n",
    "                visited.add(new_position)\n",
    "                new_path = path + [new_position]\n",
    "                stack.append((new_position, new_path))\n",
    "\n",
    "    return None\n",
    "\n",
    "# Example usage\n",
    "start_position = (6, 0)\n",
    "goal_position = (3, 3)\n",
    "moves = [(0, 1), (0, -1), (1, 0), (-1, 0)]\n",
    "result_path = DFS_stack(maze, start_position, goal_position, moves)\n",
    "\n",
    "if result_path:\n",
    "    print(\"Path found:\", result_path)\n",
    "else:\n",
    "    print(\"No path found.\")\n"
   ]
  },
  {
   "cell_type": "code",
   "execution_count": 2,
   "metadata": {},
   "outputs": [
    {
     "data": {
      "image/png": "[encoded data removed]",
      "text/plain": [
       "<Figure size 640x480 with 1 Axes>"
      ]
     },
     "metadata": {},
     "output_type": "display_data"
    }
   ],
   "source": [
    "import matplotlib.pyplot as plt\n",
    "import csv\n",
    "\n",
    "maze = []\n",
    "with open(\"maze_02.csv\", 'r') as file:\n",
    "    reader = csv.reader(file)\n",
    "    for row in reader:  \n",
    "        maze.append([int(cell) for cell in row])\n",
    "\n",
    "path_coordinates = [(6, 0), (5, 0), (4, 0), (3, 0), (2, 0), (1, 0), (1, 1), (1, 2), (1, 3), (2, 3), (3, 3)]\n",
    "\n",
    "for coord in path_coordinates:\n",
    "    maze[coord[0]][coord[1]] = 2  \n",
    "\n",
    "plt.imshow(maze, cmap='binary', vmin=0, vmax=2)  \n",
    "plt.xticks([]) \n",
    "plt.yticks([]) \n",
    "plt.show()\n"
   ]
  },
  {
   "cell_type": "code",
   "execution_count": 3,
   "metadata": {},
   "outputs": [
    {
     "name": "stdout",
     "output_type": "stream",
     "text": [
      "Number of steps: 28\n",
      "Final path: [(1, 0), (0, 0), (2, 0), (2, 1), (2, 2), (3, 1), (4, 1), (4, 2), (4, 3), (4, 4), (5, 3), (6, 3), (6, 2), (6, 1), (6, 0), (3, 4), (2, 4), (1, 4), (0, 4), (1, 5), (1, 6), (2, 6), (2, 7), (3, 6), (4, 6), (5, 6), (6, 6), (6, 7), (6, 8), (6, 9), (6, 10), (6, 11)]\n"
     ]
    },
    {
     "data": {
      "image/png": "[encoded data removed]",
      "text/plain": [
       "<Figure size 640x480 with 1 Axes>"
      ]
     },
     "metadata": {},
     "output_type": "display_data"
    }
   ],
   "source": [
    "import matplotlib.pyplot as plt\n",
    "# SOLUTION FOR DFS\n",
    "maze = []\n",
    "with open(\"maze_01.csv\", \"r\") as file:\n",
    "    for line in file:\n",
    "        line = line.split(\",\")\n",
    "        row = []\n",
    "        for c in line:\n",
    "            if \"1\" in c:\n",
    "                row.append(1)\n",
    "            else:\n",
    "                row.append(0)\n",
    "        maze.append(row)\n",
    "\n",
    "\n",
    "\n",
    "start = (0, 0) #our start node\n",
    "obj = (6,11) # final node \n",
    "\n",
    "path = []\n",
    "stack = []\n",
    "\n",
    "def check_direction(node, queue):\n",
    "    directions = [(-1, 0), (0, 1), (1, 0), (0, -1)]\n",
    "\n",
    "    for move in directions:\n",
    "        new_row = node[0] + move[0]\n",
    "        new_col = node[1] + move[1]\n",
    "\n",
    "        if 0 <= new_row < len(maze) and 0 <= new_col < len(maze[0]) and maze[new_row][new_col] == 0:\n",
    "            path.append((new_row, new_col))  # Append the new position to the path\n",
    "            maze[new_row][new_col] = 2 # This is the way to know is already visited\n",
    "            queue.append((new_row, new_col)) # Updating the queue\n",
    "\n",
    "#DFS using stack \n",
    "def DFS_stack(start, obj):\n",
    "    stack = [start] # Initializa the stack with start is to know the visted nodes\n",
    "    counter = 0 #initialize our counter \n",
    "\n",
    "    while stack:\n",
    "        current_node = stack.pop() # The correct way to remove the last value in the stack \n",
    "        if current_node == obj: # check if our current node is the final\n",
    "            return counter, path  # Return the counter, visited cells, and the path\n",
    "\n",
    "        check_direction(current_node, stack) #check our directions that are correct \n",
    "        counter += 1 #and increase our counter\n",
    "\n",
    "    return None\n",
    "\n",
    "\n",
    "def main():\n",
    "    result = DFS_stack(start, obj) \n",
    "\n",
    "    if result is not None:\n",
    "        steps, final_path = result\n",
    "        print(\"Number of steps:\", steps)\n",
    "        print(\"Final path:\", final_path)\n",
    "        plt.imshow(maze, cmap='viridis', origin='upper')\n",
    "        plt.show()\n",
    "\n",
    "    else:\n",
    "        print(\"No path found.\")\n",
    "\n",
    "\n",
    "if __name__ == \"__main__\":\n",
    "    main()"
   ]
  },
  {
   "cell_type": "code",
   "execution_count": null,
   "metadata": {},
   "outputs": [],
   "source": [
    "import matplotlib.pyplot as plt\n",
    "import csv\n",
    "\n",
    "maze = []\n",
    "with open(\"maze_02.csv\", 'r') as file:\n",
    "    reader = csv.reader(file)\n",
    "    for row in reader:\n",
    "        maze.append([int(cell) for cell in row])\n",
    "\n",
    "\n",
    "        \n",
    "#path_coordinates =[(6, 0) ,(5, 0), (6, 1), (4, 0),(6, 2), (3, 0), (5, 2), (2, 0),(4, 2),(1, 0), (4, 3), (0, 0),(1, 1), (3, 3), (1, 2)]\n",
    "#path_coordinates = [(6, 0), (6, 1), (6, 2), (5, 2), (4, 2), (4, 3), (3, 3)]\n",
    "#path_coordinates = [(6, 0), (5, 0), (4, 0), (3, 0), (2, 0), (1, 0), (1, 1), (1, 2), (1, 3), (2, 3), (3, 3)]\n",
    "#path_coordinates = [(6, 0), (5, 0), (4, 0), (3, 0), (2, 0), (1, 0), (1, 1), (1, 2), (1, 3), (2, 3), (3, 3)]\n",
    "path_coordinates = [(5, 0), (6, 1), (4, 0), (6, 0), (6, 2), (3, 0), (5, 2), (2, 0), (4, 2), (1, 0), (4, 3), (0, 0), (1, 1), (3, 3), (1, 2)]\n",
    "for coord in path_coordinates:\n",
    "    maze[coord[0]][coord[1]] = 2  \n",
    "\n",
    "    \n",
    "\n",
    "plt.imshow(maze, cmap='binary', vmin=0, vmax=2,aspect='equal') \n",
    "\n",
    "plt.xticks([]) \n",
    "plt.yticks([]) \n",
    "plt.grid(True)\n",
    "plt.show()\n"
   ]
  },
  {
   "cell_type": "code",
   "execution_count": 5,
   "metadata": {},
   "outputs": [
    {
     "name": "stdout",
     "output_type": "stream",
     "text": [
      "Number of steps: 45\n",
      "Final path: [(1, 0), (0, 0), (2, 0), (2, 1), (2, 2), (3, 1), (1, 2), (4, 1), (0, 2), (4, 2), (4, 3), (4, 4), (5, 3), (3, 4), (6, 3), (2, 4), (6, 2), (1, 4), (6, 1), (0, 4), (1, 5), (6, 0), (1, 6), (2, 6), (2, 7), (3, 6), (2, 8), (4, 6), (1, 8), (3, 8), (5, 6), (0, 8), (4, 8), (6, 6), (0, 9), (4, 9), (6, 7), (4, 10), (6, 8), (4, 11), (6, 9), (3, 11), (6, 10), (2, 11), (6, 11), (1, 11)]\n"
     ]
    },
    {
     "data": {
      "image/png": "[encoded data removed]",
      "text/plain": [
       "<Figure size 640x480 with 1 Axes>"
      ]
     },
     "metadata": {},
     "output_type": "display_data"
    }
   ],
   "source": [
    "# SOLUTION FOR BFS \n",
    "\n",
    "from collections import deque\n",
    "import matplotlib.pyplot as plt\n",
    "\n",
    "start = (0, 0) #our start node\n",
    "obj = (6, 11) # final node \n",
    "\n",
    "path = []\n",
    "maze = []\n",
    "\n",
    "# Just convert the original csv to a big array with the data\n",
    "with open(\"maze_01.csv\", \"r\") as file:\n",
    "    for line in file:\n",
    "        line = line.split(\",\")\n",
    "        row = []\n",
    "        for c in line:\n",
    "            if \"1\" in c:\n",
    "                row.append(1)\n",
    "            else:\n",
    "                row.append(0)\n",
    "        maze.append(row)\n",
    "        \n",
    "\n",
    "def check_direction(node, queue):\n",
    "    directions = [(-1, 0), (0, 1), (1, 0), (0, -1)]\n",
    "\n",
    "    for move in directions:\n",
    "        new_row = node[0] + move[0]\n",
    "        new_col = node[1] + move[1]\n",
    "\n",
    "        if 0 <= new_row < len(maze) and 0 <= new_col < len(maze[0]) and maze[new_row][new_col] == 0:\n",
    "            path.append((new_row, new_col))  # Append the new position to the path\n",
    "            maze[new_row][new_col] = 2 # This is the way to know is already visited\n",
    "            queue.append((new_row, new_col)) # Updating the queue\n",
    "\n",
    "\n",
    "def BFS_queue(start, obj):\n",
    "    queue = deque([start]) # Get the first value in the queue\n",
    "    counter = 0 #initialize our counter \n",
    "\n",
    "    while queue:\n",
    "        current_node = queue.popleft() # The correct way to remove the first value [0] all the times\n",
    "        if current_node == obj: # check if our current node is the final\n",
    "            return counter, path  # Return the counter, visited cells, and the path\n",
    "\n",
    "        check_direction(current_node, queue) #check our directions that are correct \n",
    "        counter += 1 #and increase our counter\n",
    "\n",
    "    return None\n",
    "\n",
    "\n",
    "def main():\n",
    "    result = BFS_queue(start, obj) \n",
    "\n",
    "    if result is not None:\n",
    "        steps, final_path = result\n",
    "        print(\"Number of steps:\", steps)\n",
    "        print(\"Final path:\", final_path)\n",
    "        plt.imshow(maze, cmap='viridis', origin='upper')\n",
    "        plt.show()\n",
    "\n",
    "    else:\n",
    "        print(\"No path found.\")\n",
    "\n",
    "\n",
    "if __name__ == \"__main__\":\n",
    "    main()\n"
   ]
  }
 ],
 "metadata": {
  "kernelspec": {
   "display_name": "Python 3",
   "language": "python",
   "name": "python3"
  },
  "language_info": {
   "codemirror_mode": {
    "name": "ipython",
    "version": 3
   },
   "file_extension": ".py",
   "mimetype": "text/x-python",
   "name": "python",
   "nbconvert_exporter": "python",
   "pygments_lexer": "ipython3",
   "version": "3.12.0"
  }
 },
 "nbformat": 4,
 "nbformat_minor": 2
}
