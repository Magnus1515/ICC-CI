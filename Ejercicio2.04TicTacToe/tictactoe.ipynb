{
 "cells": [
  {
   "cell_type": "code",
   "execution_count": 79,
   "metadata": {},
   "outputs": [
    {
     "name": "stdout",
     "output_type": "stream",
     "text": [
      "\n",
      "\n",
      "\t     |     |\n",
      "\t  0  |  0  |  0\n",
      "\t_____|_____|_____\n",
      "\t     |     |\n",
      "\t  0  |  o  |  0\n",
      "\t_____|_____|_____\n",
      "\t     |     |\n",
      "\t  0  |  x  |  x\n",
      "\t     |     |\n",
      "\n",
      "\n"
     ]
    }
   ],
   "source": [
    "import matplotlib.pyplot as plt\n",
    "import numpy as np \n",
    "# def initial_state(x):\n",
    "#     if x == \"s_0\":\n",
    "#         return [0,0,0,0,0,0,0,0,0]\n",
    "        \n",
    "\n",
    "def initial_state():\n",
    "    return [0,0,0,0,\"x\",0,0,0,0]\n",
    "\n",
    "def game_state_1():\n",
    "    return [\"o\",0,0,\"o\",\"x\",0,\"x\",\"o\",\"x\"]\n",
    "\n",
    "def game_state_2():\n",
    "    return [\"o\",0,\"x\",\"o\",\"x\",0,\"x\",\"o\",\"x\"]\n",
    "\n",
    "def game_state_3():\n",
    "    return [\"o\",0,\"x\",\"o\",\"x\",0,\"x\",\"o\",\"x\"]\n",
    "\n",
    "def game_state_4():\n",
    "    return [0,\"x\",\"o\",\"o\",\"x\",0,\"x\",0,\"o\"]\n",
    "\n",
    "def game_state_5():\n",
    "    return [0,0,0,0,\"o\",0,0,\"x\",\"x\"]\n",
    "\n",
    "def game_draw_state():\n",
    "    return [\"o\",0,0,\"o\",\"x\",0,\"x\",\"o\",\"x\"]\n",
    "\n",
    "def game_draw_state():\n",
    "    return [\"o\",0,0,\"o\",\"x\",0,\"x\",\"o\",\"x\"]\n",
    "\n",
    "def game_state_o():\n",
    "    return [\"x\",\"o\",\"o\",\"o\",\"x\",\"o\",\"x\",\"x\",0]\n",
    "\n",
    "def game_state_x():\n",
    "    return [\"x\",\"o\",\"o\",\"o\",\"x\",\"o\",\"0\",\"0\",\"0\"]\n",
    "\n",
    "\n",
    "def print_tic_tac_toe(values):\n",
    "\n",
    "    print(\"\\n\")\n",
    "    print(\"\\t     |     |\")\n",
    "    print(\"\\t  {}  |  {}  |  {}\".format(values[0], values[1], values[2]))\n",
    "    print('\\t_____|_____|_____')\n",
    " \n",
    "    print(\"\\t     |     |\")\n",
    "    print(\"\\t  {}  |  {}  |  {}\".format(values[3], values[4], values[5]))\n",
    "    print('\\t_____|_____|_____')\n",
    " \n",
    "    print(\"\\t     |     |\")\n",
    " \n",
    "    print(\"\\t  {}  |  {}  |  {}\".format(values[6], values[7], values[8]))\n",
    "    print(\"\\t     |     |\")\n",
    "    print(\"\\n\")\n",
    "\n",
    "\n",
    "# print_tic_tac_toe(initial_state())\n",
    "print_tic_tac_toe(game_state_5())\n",
    "\n",
    "temp_arr = np.asarray(game_state_5())\n",
    "np_game_state  = temp_arr.reshape(3,3)"
   ]
  },
  {
   "cell_type": "code",
   "execution_count": 35,
   "metadata": {},
   "outputs": [],
   "source": [
    "# def player_turn(board):\n",
    "    \n",
    "#     x_value = np.count_nonzero(board == \"x\")\n",
    "#     # np.count_nonzero(y == 1)\n",
    "#     o_value = np.count_nonzero(board == \"o\")\n",
    "#     # o_value = board.count(\"o\")\n",
    "\n",
    "#     if x_value and o_value is None or x_value == o_value:\n",
    "#         return \"x\"\n",
    "#     elif x_value > o_value:\n",
    "#         return \"o\"\n",
    "#     else:\n",
    "#         return \"x\"\n",
    "    \n",
    "# player_turn(np_game_state)\n",
    "\n",
    "def player_turn(board):\n",
    "    x_count = np.count_nonzero(board == 'x')\n",
    "    o_count = np.count_nonzero(board == 'o')\n",
    "    return 'x' if x_count == o_count else 'o'\n"
   ]
  },
  {
   "cell_type": "code",
   "execution_count": 26,
   "metadata": {},
   "outputs": [
    {
     "data": {
      "text/plain": [
       "[(0, 0), (1, 2), (2, 1)]"
      ]
     },
     "execution_count": 26,
     "metadata": {},
     "output_type": "execute_result"
    }
   ],
   "source": [
    "# def actions(board):\n",
    "#     indices = np.argwhere(board == '0')\n",
    "#     return indices\n",
    "    # list_actions = []\n",
    "    # for i,value in enumerate(board):\n",
    "    #     if value == 0:\n",
    "    #         list_actions.append(i)\n",
    "    # return print(list_actions)\n",
    "    \n",
    "def actions(board):\n",
    "    return list(zip(*np.where(board == '0')))\n",
    "\n",
    "actions(np_game_state)"
   ]
  },
  {
   "cell_type": "code",
   "execution_count": 58,
   "metadata": {},
   "outputs": [
    {
     "name": "stdout",
     "output_type": "stream",
     "text": [
      "None\n"
     ]
    }
   ],
   "source": [
    "def checkRows(board):\n",
    "    for row in board:\n",
    "        #print(\"Checking row:\", row)  # Debug statement\n",
    "        if len(set(row)) == 1 and row[0] != '0':\n",
    "            return row[0]\n",
    "    return None\n",
    "\n",
    "def checkDiagonals(board):\n",
    "    # Main diagonal\n",
    "    main_diag = [board[i][i] for i in range(len(board))]\n",
    "    #print(\"Checking main diagonal:\", main_diag)  # Debug statement\n",
    "    if len(set(main_diag)) == 1 and board[0][0] != '0':\n",
    "        return board[0][0]\n",
    "\n",
    "    # Second diagonal\n",
    "    sec_diag = [board[i][len(board)-i-1] for i in range(len(board))]\n",
    "    \n",
    "    if len(set(sec_diag)) == 1 and board[0][len(board)-1] != '0':\n",
    "        return board[0][len(board)-1]\n",
    "\n",
    "    return None\n",
    "\n",
    "def checkWin(board):\n",
    "    # check original rows if someone has won\n",
    "    result = checkRows(board)\n",
    "    if result:\n",
    "        return result\n",
    "    \n",
    "    # check columns as rows of the transposed board\n",
    "    transposed_board = np.transpose(board)\n",
    "    \n",
    "    for row in transposed_board:\n",
    "        \n",
    "        if len(set(row)) == 1 and row[0] != '0':\n",
    "            return row[0]\n",
    "    \n",
    "    # Check diagonals\n",
    "    return checkDiagonals(board)\n",
    "\n",
    "print(checkWin(np_game_state))"
   ]
  },
  {
   "cell_type": "code",
   "execution_count": 52,
   "metadata": {},
   "outputs": [
    {
     "data": {
      "text/plain": [
       "True"
      ]
     },
     "execution_count": 52,
     "metadata": {},
     "output_type": "execute_result"
    }
   ],
   "source": [
    "#If the game is over retrieve Ture or False\n",
    "def terminals(board):\n",
    "    winner = checkWin(board)\n",
    "    \n",
    "    if winner or np.count_nonzero(board == '0') == 0:  # check if someone has won or the board is full\n",
    "        return True\n",
    "    return False\n",
    "\n",
    "\n",
    "terminals(np_game_state)"
   ]
  },
  {
   "cell_type": "code",
   "execution_count": 32,
   "metadata": {},
   "outputs": [],
   "source": [
    "\n",
    "def results(board, action, player):\n",
    "    board[action] = player  # Update the board directly\n"
   ]
  },
  {
   "cell_type": "code",
   "execution_count": 61,
   "metadata": {},
   "outputs": [
    {
     "name": "stdout",
     "output_type": "stream",
     "text": [
      "0\n"
     ]
    }
   ],
   "source": [
    "def utilitys(board):\n",
    "    \n",
    "    if checkWin(board) == \"o\":\n",
    "        return -1\n",
    "    elif checkWin(board) == \"x\":\n",
    "        return 1\n",
    "    elif checkWin(board) == None:\n",
    "        return 0\n",
    "\n",
    "print(utilitys(np_game_state))"
   ]
  },
  {
   "cell_type": "code",
   "execution_count": 80,
   "metadata": {},
   "outputs": [
    {
     "name": "stdout",
     "output_type": "stream",
     "text": [
      "Best move for 'o': (2, 0)\n"
     ]
    }
   ],
   "source": [
    "def minimax(board, player):\n",
    "\n",
    "        if terminals(board): # firts check is game is over\n",
    "            return utilitys(board), None # just return the utility of it\n",
    "        \n",
    "        if player == 'x': # in case of player is x we start here\n",
    "            max_eval = float('-inf') # this is the same as - x number but a little bit more complex \n",
    "            best_move = None # declare our best_move as None to use it in our for loop\n",
    "            for action in actions(board): # with self.actions() we get our posible actions in that position \n",
    "                new_board = np.copy(board) # i get a copy of the board to work on it\n",
    "                results(board,action, player) # now, we apply the move for that use results is that transition results(action, player)\n",
    "                score, _ = minimax(board,'o') # we do a recursion run and just save score, the only thing we need but now for the other player\n",
    "                board = new_board  # restore the board in our local board as self.board\n",
    "                if score > max_eval: # the most complex thing and hard to get to is compare the score to the max_eval and replace them, to get te max values in this case\n",
    "                    max_eval, best_move = score, action\n",
    "            return max_eval, best_move\n",
    "        else: # in case of player is o we start here\n",
    "            min_eval = float('inf') # this is the same as - x number but a little bit more complex \n",
    "            best_move = None # declare our best_move as None to use it in our for loop\n",
    "            for action in actions(board):  # with self.actions() we get our posible actions in that position \n",
    "                new_board = np.copy(board) # i get a copy of the board to work on it\n",
    "                results(board,action, player) # now, we apply the move for that use results is that transition results(action, player)\n",
    "                score, _ = minimax(board,'x') # we do a recursion run and just save score, the only thing we need but now for the other player\n",
    "                board = new_board  # restore the board in our local board as self.board\n",
    "                if score < min_eval: # the most complex thing and hard to get to is compare the score to the max_eval and replace them, to get te min values in this case now is min\n",
    "                    min_eval, best_move = score, action\n",
    "            return min_eval, best_move # and finally just return those values\n",
    "        \n",
    "\n",
    "def best_move(board): # in order to get the best move we use this funtion to call our minimax function\n",
    "        return minimax(board,player_turn(board))[1] # and just return the call of the information of player turn, our only parameter and just get the second parameter which is just the best move\n",
    "\n",
    "move = best_move(np_game_state)\n",
    "print(f\"Best move for '{player_turn(np_game_state)}':\", move)\n",
    "\n"
   ]
  }
 ],
 "metadata": {
  "kernelspec": {
   "display_name": "Python 3",
   "language": "python",
   "name": "python3"
  },
  "language_info": {
   "codemirror_mode": {
    "name": "ipython",
    "version": 3
   },
   "file_extension": ".py",
   "mimetype": "text/x-python",
   "name": "python",
   "nbconvert_exporter": "python",
   "pygments_lexer": "ipython3",
   "version": "3.12.0"
  }
 },
 "nbformat": 4,
 "nbformat_minor": 2
}
