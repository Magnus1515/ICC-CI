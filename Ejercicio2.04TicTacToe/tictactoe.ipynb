{
 "cells": [
  {
   "cell_type": "code",
   "execution_count": 80,
   "metadata": {},
   "outputs": [
    {
     "name": "stdout",
     "output_type": "stream",
     "text": [
      "x\n"
     ]
    },
    {
     "data": {
      "image/png": "[encoded data removed]",
      "text/plain": [
       "<Figure size 640x480 with 1 Axes>"
      ]
     },
     "metadata": {},
     "output_type": "display_data"
    }
   ],
   "source": [
    "import matplotlib.pyplot as plt\n",
    "import numpy as np\n",
    "\n",
    "# 1 -> O\n",
    "# 2 -> X\n",
    "\n",
    "def initial_state():\n",
    "    #return([[None,None,None],[None,None,None],[None,None,None]])\n",
    "    return([[0,0,0],[0,0,0],[0,0,0]])\n",
    "\n",
    "def example_state():\n",
    "    return([[0,1,2],[1,2,0],[2,1,1]])\n",
    "\n",
    "def hard_example():\n",
    "    return([[0,0,0],[0,2,0],[0,0,0]])\n",
    "\n",
    "def display(map):\n",
    "    temp=example_state()\n",
    "    for i,j in enumerate(map):\n",
    "        for u, n in enumerate(j):\n",
    "            if n == None:\n",
    "                temp[i][u]=-1\n",
    "    #print(temp)\n",
    "    plt.imshow(temp, cmap='binary', extent=[0, 3, 0, 3])  \n",
    "    plt.xticks([0, 1, 2, 3])  \n",
    "    plt.yticks([0, 1, 2, 3])  \n",
    "    plt.grid(True)\n",
    "    plt.show()\n",
    "\n",
    "def player(board):\n",
    "    board = np.array(board) \n",
    "\n",
    "    unique, counts = np.unique(board, return_counts=True)\n",
    "\n",
    "    print(dict(zip(unique, counts))) \n",
    "\n",
    "    if counts[0] is None and counts[2] is None and counts[1] is None:\n",
    "        pass\n",
    "    if counts[1] and counts[2]:\n",
    "        if counts[1] > counts[2]:\n",
    "            return \"x\"\n",
    "        return \"o\"\n",
    "    \n",
    "    \n",
    "\n",
    "def main():\n",
    "    new = initial_state()\n",
    "    hard = hard_example()\n",
    "\n",
    "    new_2 = example_state()\n",
    "    print(player(hard))\n",
    "\n",
    "    display(new)\n",
    "\n",
    "main()\n",
    "\n",
    "\n"
   ]
  },
  {
   "cell_type": "code",
   "execution_count": 4,
   "metadata": {},
   "outputs": [
    {
     "name": "stdout",
     "output_type": "stream",
     "text": [
      "\n",
      "\n",
      "\t     |     |\n",
      "\t  x  |  o  |  o\n",
      "\t_____|_____|_____\n",
      "\t     |     |\n",
      "\t  o  |  x  |  o\n",
      "\t_____|_____|_____\n",
      "\t     |     |\n",
      "\t  0  |  x  |  x\n",
      "\t     |     |\n",
      "\n",
      "\n"
     ]
    }
   ],
   "source": [
    "import matplotlib.pyplot as plt\n",
    "import numpy as np \n",
    "# def initial_state(x):\n",
    "#     if x == \"s_0\":\n",
    "#         return [0,0,0,0,0,0,0,0,0]\n",
    "        \n",
    "\n",
    "def initial_state():\n",
    "    return [0,0,0,0,\"x\",0,0,0,0]\n",
    "\n",
    "def game_state():\n",
    "    return [\"o\",0,\"x\",\"o\",\"x\",0,\"x\",\"o\",\"x\"]\n",
    "\n",
    "def game_draw_state():\n",
    "    return [\"o\",0,0,\"o\",\"x\",0,\"x\",\"o\",\"x\"]\n",
    "\n",
    "\n",
    "def game_draw_state():\n",
    "    return [\"o\",0,0,\"o\",\"x\",0,\"x\",\"o\",\"x\"]\n",
    "\n",
    "def game_state_o():\n",
    "    return [\"x\",\"o\",\"o\",\"o\",\"x\",\"o\",\"x\",\"x\",\"o\"]\n",
    "\n",
    "def game_state_x():\n",
    "    return [\"x\",\"o\",\"o\",\"o\",\"x\",\"o\",\"0\",\"x\",\"x\"]\n",
    "\n",
    "\n",
    "def print_tic_tac_toe(values):\n",
    "\n",
    "    print(\"\\n\")\n",
    "    print(\"\\t     |     |\")\n",
    "    print(\"\\t  {}  |  {}  |  {}\".format(values[0], values[1], values[2]))\n",
    "    print('\\t_____|_____|_____')\n",
    " \n",
    "    print(\"\\t     |     |\")\n",
    "    print(\"\\t  {}  |  {}  |  {}\".format(values[3], values[4], values[5]))\n",
    "    print('\\t_____|_____|_____')\n",
    " \n",
    "    print(\"\\t     |     |\")\n",
    " \n",
    "    print(\"\\t  {}  |  {}  |  {}\".format(values[6], values[7], values[8]))\n",
    "    print(\"\\t     |     |\")\n",
    "    print(\"\\n\")\n",
    "\n",
    "\n",
    "# print_tic_tac_toe(initial_state())\n",
    "print_tic_tac_toe(game_state_x())"
   ]
  },
  {
   "cell_type": "code",
   "execution_count": 4,
   "metadata": {},
   "outputs": [
    {
     "data": {
      "text/plain": [
       "'o'"
      ]
     },
     "execution_count": 4,
     "metadata": {},
     "output_type": "execute_result"
    }
   ],
   "source": [
    "def player_turn(board):\n",
    "    \n",
    "    x_value = board.count(\"x\")\n",
    "    o_value = board.count(\"o\")\n",
    "\n",
    "    if x_value and o_value is None or x_value == o_value:\n",
    "        return \"x\"\n",
    "    elif x_value > o_value:\n",
    "        return \"o\"\n",
    "    else:\n",
    "        return \"x\"\n",
    "    \n",
    "player_turn(initial_state())"
   ]
  },
  {
   "cell_type": "code",
   "execution_count": 7,
   "metadata": {},
   "outputs": [
    {
     "name": "stdout",
     "output_type": "stream",
     "text": [
      "[['0' 'x' 'o']\n",
      " ['o' 'x' 'x']\n",
      " ['x' '0' 'o']]\n",
      "[[0 0]\n",
      " [2 1]]\n"
     ]
    }
   ],
   "source": [
    "def actions(board):\n",
    "    temp_arr = np.asarray(board)\n",
    "    newarr  = temp_arr.reshape(3,3)\n",
    "    indices = np.argwhere(newarr == '0')\n",
    "    print(newarr)\n",
    "    return print(indices)\n",
    "    # list_actions = []\n",
    "    # for i,value in enumerate(board):\n",
    "    #     if value == 0:\n",
    "    #         list_actions.append(i)\n",
    "    # return print(list_actions)\n",
    "    \n",
    "\n",
    "actions(game_draw_state())"
   ]
  },
  {
   "cell_type": "code",
   "execution_count": 5,
   "metadata": {},
   "outputs": [
    {
     "name": "stdout",
     "output_type": "stream",
     "text": [
      "x\n"
     ]
    }
   ],
   "source": [
    "\n",
    "def checkRows(board):\n",
    "    for row in board:\n",
    "        if len(set(row)) == 1:\n",
    "            return row[0]\n",
    "    return 0\n",
    "\n",
    "def checkDiagonals(board):\n",
    "    if len(set([board[i][i] for i in range(len(board))])) == 1:\n",
    "        return board[0][0]\n",
    "    if len(set([board[i][len(board)-i-1] for i in range(len(board))])) == 1:\n",
    "        return board[0][len(board)-1]\n",
    "    return 0\n",
    "\n",
    "def checkWin(board):\n",
    "    temp_arr = np.asarray(board)\n",
    "    board  = temp_arr.reshape(3,3)\n",
    "    #transposition to check rows, then columns\n",
    "    for newBoard in [board, np.transpose(board)]:\n",
    "        result = checkRows(newBoard)\n",
    "        if result:\n",
    "            return result\n",
    "    return checkDiagonals(board)\n",
    "\n",
    "# temp_arr = np.asarray(game_state_1())\n",
    "# board  = temp_arr.reshape(3,3)\n",
    "\n",
    "print(checkWin(game_state_x()))"
   ]
  },
  {
   "cell_type": "code",
   "execution_count": 6,
   "metadata": {},
   "outputs": [
    {
     "name": "stdout",
     "output_type": "stream",
     "text": [
      "True\n"
     ]
    }
   ],
   "source": [
    "#If the game is over retrieve Ture or False\n",
    "def terminals(board):   \n",
    "    for i,value in enumerate(board):\n",
    "        if value == 0:\n",
    "            board.remove(value)\n",
    "    if len(board) == 9 or checkWin(board) == \"x\" or checkWin(board) == \"o\":\n",
    "        return print(True)\n",
    "    return print(False)\n",
    "\n",
    "terminals(game_state_x())"
   ]
  },
  {
   "cell_type": "code",
   "execution_count": 27,
   "metadata": {},
   "outputs": [
    {
     "name": "stdout",
     "output_type": "stream",
     "text": [
      "[['o' '0' 'x']\n",
      " ['o' 'x' '0']\n",
      " ['x' 'o' 'x']]\n"
     ]
    }
   ],
   "source": [
    "\n",
    "def results(board, action, play_turn):\n",
    "    #(1,2)\n",
    "    temp_arr = np.asarray(board)\n",
    "    board  = temp_arr.reshape(3,3)\n",
    "    \n",
    "    board[action] = play_turn\n",
    "    \n",
    "    return print(board) \n",
    "\n",
    "results(game_state(),(0,0),player_turn(game_state()))\n",
    "    "
   ]
  },
  {
   "cell_type": "code",
   "execution_count": 28,
   "metadata": {},
   "outputs": [
    {
     "name": "stdout",
     "output_type": "stream",
     "text": [
      "1\n"
     ]
    }
   ],
   "source": [
    "def utilitys(board):\n",
    "    # temp_arr = np.asarray(board)\n",
    "    # board  = temp_arr.reshape(3,3)\n",
    "\n",
    "    if checkWin(board) == \"o\":\n",
    "        return -1\n",
    "    elif checkWin(board) == \"x\":\n",
    "        return 1\n",
    "    elif checkWin(board) == 0:\n",
    "        return 0\n",
    "\n",
    "\n",
    "print(utilitys(game_state()))"
   ]
  },
  {
   "cell_type": "code",
   "execution_count": 29,
   "metadata": {},
   "outputs": [],
   "source": [
    "player, opponent = 'x', 'o'\n",
    "\n",
    "def evaluate(b) : \n",
    "\t\n",
    "\t# Checking for Rows for X or O. \n",
    "\tfor row in range(3) :\t \n",
    "\t\tif (b[row][0] == b[row][1] and b[row][1] == b[row][2]) :\t\t \n",
    "\t\t\tif (b[row][0] == player) : \n",
    "\t\t\t\treturn 10\n",
    "\t\t\telif (b[row][0] == opponent) : \n",
    "\t\t\t\treturn -10\n",
    "\n",
    "\t# Checking for Columns for X or O.\n",
    "\tfor col in range(3) : \n",
    "\t\n",
    "\t\tif (b[0][col] == b[1][col] and b[1][col] == b[2][col]) : \n",
    "\t\t\n",
    "\t\t\tif (b[0][col] == player) : \n",
    "\t\t\t\treturn 10\n",
    "\t\t\telif (b[0][col] == opponent) : \n",
    "\t\t\t\treturn -10\n",
    "\n",
    "\t# Checking for Diagonals for X or O.\n",
    "\tif (b[0][0] == b[1][1] and b[1][1] == b[2][2]) : \n",
    "\t\n",
    "\t\tif (b[0][0] == player) : \n",
    "\t\t\treturn 10\n",
    "\t\telif (b[0][0] == opponent) : \n",
    "\t\t\treturn -10\n",
    "\n",
    "\tif (b[0][2] == b[1][1] and b[1][1] == b[2][0]) : \n",
    "\t\n",
    "\t\tif (b[0][2] == player) : \n",
    "\t\t\treturn 10\n",
    "\t\telif (b[0][2] == opponent) : \n",
    "\t\t\treturn -10\n",
    "\n",
    "\t# Else if none of them have won then return 0 \n",
    "\treturn 0\n"
   ]
  },
  {
   "cell_type": "code",
   "execution_count": 30,
   "metadata": {},
   "outputs": [],
   "source": [
    "def minimax(board, depth, isMax):\n",
    "    score = evaluate(board)\n",
    "\n",
    "    if (score == 10):\n",
    "        return score\n",
    "    \n",
    "    if score == -10 :\n",
    "        return score\n",
    "    \n",
    "    if terminals(board) == False:\n",
    "        return 0\n",
    "    \n",
    "    if (isMax):\n",
    "        best = -1000\n",
    "        for i in range(3):\n",
    "            for j in range(3):\n",
    "                # Check if cell is empt\n",
    "                if board[i][j] == 0:\n",
    "                    # Make the move \n",
    "                    board[i][j] = player\n",
    "\n",
    "                    best = max (best, minimax(board, depth + 1,not isMax))\n",
    "                    # undo the move\n",
    "                    board[i][j] = 0\n",
    "                    max_Eval = max([max_Eval,best])\n",
    "        return best\n",
    "    else: \n",
    "        best = 1000\n",
    "        for i in range(3):\n",
    "            for j in range(3):\n",
    "                if board[i][j] == 0:\n",
    "                    # Make the move \n",
    "                    board[i][j] = player\n",
    "                    best = max (best, minimax(board, depth + 1 ,not isMax))\n",
    "                    # undo the move\n",
    "                    board[i][j] = 0\n",
    "                    # evaluate the Min Evaluate \n",
    "                    min_Eval = min([min_Eval,best])\n",
    "        return best\n",
    "    \n"
   ]
  }
 ],
 "metadata": {
  "kernelspec": {
   "display_name": "Python 3",
   "language": "python",
   "name": "python3"
  },
  "language_info": {
   "codemirror_mode": {
    "name": "ipython",
    "version": 3
   },
   "file_extension": ".py",
   "mimetype": "text/x-python",
   "name": "python",
   "nbconvert_exporter": "python",
   "pygments_lexer": "ipython3",
   "version": "3.12.0"
  }
 },
 "nbformat": 4,
 "nbformat_minor": 2
}
