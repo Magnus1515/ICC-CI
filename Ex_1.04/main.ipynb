{
 "cells": [
  {
   "cell_type": "code",
   "execution_count": 1,
   "metadata": {},
   "outputs": [
    {
     "data": {
      "image/png": "[encoded data removed]",
      "text/plain": [
       "<Figure size 640x480 with 1 Axes>"
      ]
     },
     "metadata": {},
     "output_type": "display_data"
    }
   ],
   "source": [
    "import matplotlib.pyplot as plt\n",
    "import csv\n",
    "\n",
    "maze = []\n",
    "with open(\"maze_02.csv\", 'r') as file:\n",
    "    reader = csv.reader(file)\n",
    "    for row in reader:\n",
    "        maze.append([int(cell) for cell in row])\n",
    "\n",
    "path_coordinates =[(6, 0) ,(5, 0), (6, 1), (4, 0),(6, 2), (3, 0), (5, 2), (2, 0),(4, 2),(1, 0), (4, 3), (0, 0),(1, 1), (3, 3), (1, 2)]\n",
    "#path_coordinates = [(6, 0), (5, 0), (4, 0), (3, 0), (2, 0), (1, 0), (1, 1), (1, 2), (1, 3), (2, 3), (3, 3)]\n",
    "\n",
    "for coord in path_coordinates:\n",
    "    maze[coord[0]][coord[1]] = 2  \n",
    "\n",
    "plt.imshow(maze, cmap='binary', vmin=0, vmax=2)  \n",
    "plt.xticks([]) \n",
    "plt.yticks([]) \n",
    "plt.show()\n"
   ]
  }
 ],
 "metadata": {
  "kernelspec": {
   "display_name": "Python 3",
   "language": "python",
   "name": "python3"
  },
  "language_info": {
   "codemirror_mode": {
    "name": "ipython",
    "version": 3
   },
   "file_extension": ".py",
   "mimetype": "text/x-python",
   "name": "python",
   "nbconvert_exporter": "python",
   "pygments_lexer": "ipython3",
   "version": "3.12.0"
  }
 },
 "nbformat": 4,
 "nbformat_minor": 2
}
